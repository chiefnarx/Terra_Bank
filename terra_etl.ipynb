{
 "cells": [
  {
   "cell_type": "code",
   "execution_count": null,
   "id": "6e741a97",
   "metadata": {},
   "outputs": [],
   "source": [
    "from pyspark.sql import SparkSession\n",
    "from pyspark.sql.functions import monotonically_increasing_id\n",
    "import pandas as pd\n",
    "from sqlalchemy import create_engine"
   ]
  },
  {
   "cell_type": "code",
   "execution_count": null,
   "id": "caa2ab89",
   "metadata": {},
   "outputs": [],
   "source": [
    "# Inittialize the Spark session\n",
    "spark = SparkSession.builder.appName('TerraBankETL').getOrCreate()"
   ]
  },
  {
   "cell_type": "code",
   "execution_count": null,
   "id": "a82b151a",
   "metadata": {},
   "outputs": [],
   "source": [
    "spark"
   ]
  },
  {
   "cell_type": "markdown",
   "id": "0289fc3c",
   "metadata": {},
   "source": [
    "### Data Extraction"
   ]
  },
  {
   "cell_type": "code",
   "execution_count": null,
   "id": "dec822ae",
   "metadata": {},
   "outputs": [],
   "source": [
    "terra_bank_df = spark.read.csv(r'dataset/terra_bank_transactions.csv', header=True, inferSchema=True)"
   ]
  },
  {
   "cell_type": "code",
   "execution_count": null,
   "id": "3d51e34c",
   "metadata": {},
   "outputs": [],
   "source": [
    "# terra_bank_df.printShow()"
   ]
  },
  {
   "cell_type": "code",
   "execution_count": null,
   "id": "fde0b859",
   "metadata": {},
   "outputs": [],
   "source": [
    "terra_bank_df.printSchema()"
   ]
  },
  {
   "cell_type": "code",
   "execution_count": null,
   "id": "5abeedbd",
   "metadata": {},
   "outputs": [],
   "source": [
    "terra_bank_df.columns"
   ]
  },
  {
   "cell_type": "code",
   "execution_count": null,
   "id": "cdac4c7f",
   "metadata": {},
   "outputs": [],
   "source": [
    "# Number of rows\n",
    "num_rows = terra_bank_df.count()\n",
    "\n",
    "num_rows"
   ]
  },
  {
   "cell_type": "code",
   "execution_count": null,
   "id": "0af5fe6a",
   "metadata": {},
   "outputs": [],
   "source": [
    "# Number of columns\n",
    "num_columns = len(terra_bank_df.columns)\n",
    "\n",
    "num_columns"
   ]
  },
  {
   "cell_type": "code",
   "execution_count": null,
   "id": "295e6f74",
   "metadata": {},
   "outputs": [],
   "source": [
    "# Checking for null values\n",
    "\n",
    "for column in terra_bank_df.columns:\n",
    "    print(column, 'Nulls', terra_bank_df.filter(terra_bank_df[column].isNull()).count())"
   ]
  },
  {
   "cell_type": "code",
   "execution_count": null,
   "id": "407bd4ca",
   "metadata": {},
   "outputs": [],
   "source": [
    "terra_bank_df_clean = terra_bank_df.fillna([\n",
    "    'Customer_Name':'Unknown',\n",
    "    'Customer_Address':'Unknown',\n",
    "    'Customer_City': 'Unknown',\n",
    "    'Customer_State': 'Unknown',\n",
    "    'Customer_Country': 'Unknown',\n",
    "    'Company': 'Unknown',\n",
    "    'Job_Title': 'Unknown',\n",
    "    'Email': 'Unknown',\n",
    "    'Phone_Number': 'Unknown',\n",
    "    'Credit_Card_Number': 0,\n",
    "    'IBAN': 'Unknown',\n",
    "    'Currency_Code': 'Unknown',\n",
    "    'Random_Number': 0.0,\n",
    "    'Category': 'Unknown',\n",
    "    'Group': 'Unknown',\n",
    "    'Is_Active': 'Unknown',\n",
    "    'Description':'Unknown',\n",
    "    'Gender':'Unknown,\n",
    "    'Marital_Status': 'Unknown'\n",
    "])"
   ]
  },
  {
   "cell_type": "code",
   "execution_count": null,
   "id": "7dc617f2",
   "metadata": {},
   "outputs": [],
   "source": [
    "terra_bank_df_clean = terra_bank_df_clean.na.drop(subset=Last_Updated)"
   ]
  },
  {
   "cell_type": "code",
   "execution_count": null,
   "id": "18bb7ec3",
   "metadata": {},
   "outputs": [],
   "source": [
    "for column in terra_bank_df.columns:\n",
    "    print(column, 'Nulls', terra_bank_df_clean.filter(terra_bank_df_clean[column].isNull()).count())"
   ]
  },
  {
   "cell_type": "code",
   "execution_count": null,
   "id": "fb4cc2c4",
   "metadata": {},
   "outputs": [],
   "source": [
    "num_rows = terra_bank_df_clean.count()"
   ]
  },
  {
   "cell_type": "code",
   "execution_count": null,
   "id": "58b94f7a",
   "metadata": {},
   "outputs": [],
   "source": [
    "terra_bank_df_clean.describe().show()"
   ]
  },
  {
   "cell_type": "code",
   "execution_count": null,
   "id": "854c997c",
   "metadata": {},
   "outputs": [],
   "source": [
    "# Transaction Table\n",
    "\n",
    "transactions = terra_bank_df_clean.select('Transaction_Date', 'Amount', 'Transaction_Type')\n",
    "\n",
    "# Adding transaction_id column\n",
    "transaction = transactions.withColumn('transaction_id', monotonically_increasing_id())\n",
    "\n",
    "# Reordering the columns\n",
    "transaction = transaction.select('transaction_id', 'Transaction_Date', 'Amount', 'Transaction_Type')"
   ]
  },
  {
   "cell_type": "code",
   "execution_count": null,
   "id": "07544337",
   "metadata": {},
   "outputs": [],
   "source": [
    "# Customer table\n",
    "customers = terra_bank_df_clean.select('Customer_Name', 'Customer_Address', 'Customer_City', 'Customer_State', 'Customer_Country', 'Email', 'Phone_Number').distinct()\n",
    "\n",
    "customer = customers.withColumn('customer_id', monotonically_increasing_id())\n",
    "customer = customer.select('customer_id', 'Customer_Name', 'Customer_Address', 'Customer_City', 'Customer_State', 'Customer_Country')\n"
   ]
  },
  {
   "cell_type": "code",
   "execution_count": null,
   "id": "fc84a64e",
   "metadata": {},
   "outputs": [],
   "source": [
    "# Employee Table\n",
    "\n",
    "employees = terra_bank_df_clean.select('Company', 'Job_Title', 'Gender', 'Marital_Status')\n",
    "\n",
    "employee = employees.withColumn('employee_id', monotonically_increasing_id())\n",
    "employee = employees.select('employee_id', 'Company', 'Job_Title', 'Gender', 'Marital_Status')"
   ]
  },
  {
   "cell_type": "code",
   "execution_count": null,
   "id": "d7942acd",
   "metadata": {},
   "outputs": [],
   "source": [
    "# Facts Table\n",
    "\n",
    "fact_table = terra_bank_df_clean.join(customer, ['customer_id', 'Customer_Name', 'Customer_Address', 'Customer_City', 'Customer_Country', 'Email', 'Phone_Number'], 'left') \\\n",
    "                                .join(transaction, ['Transaction_Date', 'Amount', 'Transaction_Type'], 'left') \\\n",
    "                                .join(employee, ['Company', 'Job_Title', 'Gender', 'Marital_Status'], 'left') \\\n",
    "                                .select('transaction_id', 'customer_id', 'employee_id', 'Credit_Card_Number', 'IBAN', 'Currency_Code', 'Random_Number', 'Category', 'Group', 'Is_Active', 'Last_Updated', 'Description')"
   ]
  },
  {
   "cell_type": "code",
   "execution_count": null,
   "id": "085d694a",
   "metadata": {},
   "outputs": [],
   "source": [
    "fact_table.show()"
   ]
  },
  {
   "cell_type": "code",
   "execution_count": null,
   "id": "23ede403",
   "metadata": {},
   "outputs": [],
   "source": [
    "# Outputting the transferred data to parquet\n",
    "\n",
    "transaction.write.mode('overwrite').parquet(r'dataset/transaction')\n",
    "customer.write.mode('overwrite').parquet(r'dataset/customer')\n",
    "employee.write.mode('overwrite').parquet(r'dataset/employee')\n",
    "fact_table.write.mode('overwrite').parquet(r'dataset/fact_table')"
   ]
  },
  {
   "cell_type": "code",
   "execution_count": null,
   "id": "a4ba02f1",
   "metadata": {},
   "outputs": [],
   "source": [
    "# Output the transferred data to csv\n",
    "\n",
    "transaction.repartition(3).write.mode('overwrite').option('header', 'true').csv(r'dataset/transaction/csv/')\n",
    "customer.repartition(3).write.mode('overwrite').option('header', 'true').csv(r'dataset/customer/csv/')\n",
    "employee.repartition(3).write.mode('overwrite').option('header', 'true').csv(r'dataset/employee/csv/')\n",
    "transaction.repartition(3).write.mode('overwrite').option('header', 'true').csv(r'dataset/fact_table/csv/')"
   ]
  },
  {
   "cell_type": "code",
   "execution_count": null,
   "id": "64854078",
   "metadata": {},
   "outputs": [],
   "source": [
    "# Convert spark df to pandas df\n",
    "\n",
    "transaction_pd_df = transaction.toPandas()\n",
    "customer_pd_df = customer.toPandas()\n",
    "employee_pd_df = employee.toPandas()\n",
    "fact_table_pd_df = fact_table.toPandas()"
   ]
  },
  {
   "cell_type": "code",
   "execution_count": null,
   "id": "15106a77",
   "metadata": {},
   "outputs": [],
   "source": [
    "# Loading the dataset into a Postgresql DB\n",
    "\n",
    "# define database connection parameters\n",
    "db_params = {\n",
    "    'username': 'postgres',\n",
    "    'password': 'MongoDB4luv',\n",
    "    'host': 'localhost',\n",
    "    'database': 'Terra_Bank'\n",
    "}\n",
    "\n",
    "db_url = f\"postgresql://{db_params['username']}:{db_params['password']}@{db_params['host']}:{db_params['port']}/{db_params['database']}\"\n",
    "\n",
    "# Create the database engine with the db url\n",
    "engine = create_engine(db_url)\n",
    "with engine.connect() as connection:\n",
    "    transaction_pd_df.to_sql('transaction', connection, index=False, if_exists='replace')\n",
    "    customer_pd_df.to_sql('customer', connection, index=False, if_exists='replace')\n",
    "    employee_pd_df.to_sql('employee', connection, index=False, if_exists='replace')\n",
    "    fact_table_pd_df.to_sql('fact_table', connection, index=False, if_exists='replace')\n",
    "\n",
    "print('Database, tables and data loaded successfully')"
   ]
  },
  {
   "cell_type": "code",
   "execution_count": null,
   "id": "f8ae5548",
   "metadata": {},
   "outputs": [],
   "source": []
  }
 ],
 "metadata": {
  "kernelspec": {
   "display_name": "terrabankenv",
   "language": "python",
   "name": "python3"
  },
  "language_info": {
   "codemirror_mode": {
    "name": "ipython",
    "version": 3
   },
   "file_extension": ".py",
   "mimetype": "text/x-python",
   "name": "python",
   "nbconvert_exporter": "python",
   "pygments_lexer": "ipython3",
   "version": "3.9.23"
  }
 },
 "nbformat": 4,
 "nbformat_minor": 5
}
